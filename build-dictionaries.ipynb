{
 "cells": [
  {
   "cell_type": "markdown",
   "metadata": {},
   "source": [
    "# ocr dictionaries for federal sources"
   ]
  },
  {
   "cell_type": "code",
   "execution_count": 1,
   "metadata": {
    "pycharm": {
     "is_executing": false
    }
   },
   "outputs": [],
   "source": [
    "# Imports\n",
    "\n",
    "import collections\n",
    "import glob\n",
    "import re\n",
    "\n",
    "import tika\n",
    "from tika import parser"
   ]
  },
  {
   "cell_type": "code",
   "execution_count": 2,
   "metadata": {
    "pycharm": {
     "is_executing": false
    }
   },
   "outputs": [],
   "source": [
    "# Constants and Initialization\n",
    "\n",
    "tika.initVM()\n",
    "\n",
    "WORD_COUNT = 50000\n",
    "\n",
    "DE_PATH, FR_PATH, IT_PATH = 'AS-2017-02-21/', 'RO-1948-1998/','RU-1948-1998/'\n",
    "\n",
    "DE_STOP_WORDS = set(line.strip() for line in open('dictionaries/stopwords-de.txt'))\n",
    "FR_STOP_WORDS = set(line.strip() for line in open('dictionaries/stopwords-fr.txt'))\n",
    "IT_STOP_WORDS = set(line.strip() for line in open('dictionaries/stopwords-it.txt'))\n",
    "\n",
    "DE_FULL=set(re.sub(r' [0-9]+','', line.strip()) for line in open('dictionaries/de_full.txt'))\n",
    "FR_FULL=set(re.sub(r' [0-9]+','', line.strip()) for line in open('dictionaries/fr_full.txt'))\n",
    "IT_FULL=set(re.sub(r' [0-9]+','', line.strip()) for line in open('dictionaries/it_full.txt'))"
   ]
  },
  {
   "cell_type": "code",
   "execution_count": 3,
   "metadata": {
    "pycharm": {
     "is_executing": false
    }
   },
   "outputs": [],
   "source": [
    "# List all xml file paths\n",
    "\n",
    "def get_all_files_in_path(path):\n",
    "    return [f for f in glob.glob(path + \"**/*.xml\", recursive=True)]\n",
    "\n",
    "de_files, fr_files, it_files = get_all_files_in_path(DE_PATH), get_all_files_in_path(FR_PATH), get_all_files_in_path(IT_PATH)"
   ]
  },
  {
   "cell_type": "code",
   "execution_count": 4,
   "metadata": {
    "pycharm": {
     "is_executing": true
    }
   },
   "outputs": [
    {
     "name": "stderr",
     "output_type": "stream",
     "text": [
      "2019-09-17 11:28:03,491 [MainThread  ] [WARNI]  Failed to see startup log message; retrying...\n"
     ]
    }
   ],
   "source": [
    "# Parse files and extract content\n",
    "\n",
    "def parse_files(files):\n",
    "    return [tika.parser.from_file(f)['content'] for f in files]\n",
    "\n",
    "de_parsed_files, fr_parsed_files, it_parsed_files = parse_files(de_files), parse_files(fr_files), parse_files(it_files)"
   ]
  },
  {
   "cell_type": "code",
   "execution_count": 5,
   "metadata": {
    "pycharm": {
     "is_executing": true
    }
   },
   "outputs": [],
   "source": [
    "# Concatenate all contents\n",
    "\n",
    "de_txt, fr_txt, it_txt = ''.join(de_parsed_files), ''.join(fr_parsed_files), ''.join(it_parsed_files)"
   ]
  },
  {
   "cell_type": "code",
   "execution_count": 6,
   "metadata": {
    "pycharm": {
     "is_executing": true
    }
   },
   "outputs": [],
   "source": [
    "# Tokenize contents\n",
    "\n",
    "de_tokens = [word for word in re.split(r'\\W+', de_txt) if word.isalpha() and len(word) > 3 and word.lower() not in DE_STOP_WORDS]\n",
    "fr_tokens = [word for word in re.split(r'\\W+', fr_txt) if word.isalpha() and len(word) > 3 and word.lower() not in FR_STOP_WORDS]\n",
    "it_tokens = [word for word in re.split(r'\\W+', it_txt) if word.isalpha() and len(word) > 3 and word.lower() not in IT_STOP_WORDS]"
   ]
  },
  {
   "cell_type": "code",
   "execution_count": 7,
   "metadata": {
    "pycharm": {
     "is_executing": true
    }
   },
   "outputs": [],
   "source": [
    "# Extract most common words\n",
    "\n",
    "de_most_common = set([t[0] for t in collections.Counter(de_tokens).most_common(WORD_COUNT)])\n",
    "fr_most_common = set([t[0] for t in collections.Counter(fr_tokens).most_common(WORD_COUNT)])\n",
    "it_most_common = set([t[0] for t in collections.Counter(it_tokens).most_common(WORD_COUNT)])"
   ]
  },
  {
   "cell_type": "code",
   "execution_count": 8,
   "metadata": {
    "pycharm": {
     "is_executing": true
    }
   },
   "outputs": [],
   "source": [
    "# Substract generally common words\n",
    "\n",
    "de_diff = [x for x in de_most_common if x.lower() not in DE_FULL]\n",
    "fr_diff = [x for x in fr_most_common if x.lower() not in FR_FULL]\n",
    "it_diff = [x for x in it_most_common if x.lower() not in IT_FULL]"
   ]
  },
  {
   "cell_type": "code",
   "execution_count": 9,
   "metadata": {
    "pycharm": {
     "is_executing": true,
     "name": "#%%\n"
    }
   },
   "outputs": [],
   "source": [
    "# Save dict\n",
    "\n",
    "with open('de_federal_dic.txt', 'w') as f:\n",
    "    f.write('\\n'.join(de_diff))\n",
    "    \n",
    "with open('fr_federal_dic.txt', 'w') as f:\n",
    "    f.write('\\n'.join(fr_diff))\n",
    "    \n",
    "with open('it_federal_dic.txt', 'w') as f:\n",
    "    f.write('\\n'.join(it_diff))"
   ]
  }
 ],
 "metadata": {
  "kernelspec": {
   "display_name": "Python 3",
   "language": "python",
   "name": "python3"
  },
  "language_info": {
   "codemirror_mode": {
    "name": "ipython",
    "version": 3
   },
   "file_extension": ".py",
   "mimetype": "text/x-python",
   "name": "python",
   "nbconvert_exporter": "python",
   "pygments_lexer": "ipython3",
   "version": "3.7.4"
  },
  "pycharm": {
   "stem_cell": {
    "cell_type": "raw",
    "metadata": {
     "collapsed": false
    },
    "source": []
   }
  }
 },
 "nbformat": 4,
 "nbformat_minor": 1
}
