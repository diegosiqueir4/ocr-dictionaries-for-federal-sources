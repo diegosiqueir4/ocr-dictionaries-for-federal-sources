{
 "cells": [
  {
   "cell_type": "markdown",
   "metadata": {},
   "source": [
    "# ocr dictionaries for federal sources"
   ]
  },
  {
   "cell_type": "code",
   "execution_count": 37,
   "metadata": {
    "pycharm": {
     "is_executing": false
    }
   },
   "outputs": [],
   "source": [
    "import glob\n",
    "\n",
    "from spacy.lang.de import German\n",
    "from spacy.lang.fr import French\n",
    "from spacy.lang.it import Italian\n",
    "from tika import parser"
   ]
  },
  {
   "cell_type": "code",
   "execution_count": 38,
   "metadata": {},
   "outputs": [],
   "source": [
    "de_nlp, fr_nlp, it_nlp = German(), French(), Italian()\n",
    "\n",
    "tika.initVM()\n",
    "\n",
    "de_path, fr_path, it_path = 'AS-2017-02-21/', 'RO-1948-1998/','RU-1948-1998/'"
   ]
  },
  {
   "cell_type": "code",
   "execution_count": 39,
   "metadata": {},
   "outputs": [],
   "source": [
    "def get_all_files_in_path(path):\n",
    "    return [f for f in glob.glob(path + \"**/*.xml\", recursive=True)]\n",
    "\n",
    "de_files, fr_files, it_files = get_all_files_in_path(de_path), get_all_files_in_path(fr_path), get_all_files_in_path(it_path)"
   ]
  },
  {
   "cell_type": "code",
   "execution_count": null,
   "metadata": {},
   "outputs": [],
   "source": [
    "def parse_files_and_combine(files):\n",
    "    text = ''\n",
    "    for f in files:\n",
    "        text = ' '.join([text, tika.parser.from_file(f)['content']])\n",
    "    return text\n",
    "\n",
    "de_txt, fr_txt, it_txt = parse_files_and_combine(de_files), parse_files_and_combine(fr_files), parse_files_and_combine(it_files)"
   ]
  },
  {
   "cell_type": "code",
   "execution_count": null,
   "metadata": {},
   "outputs": [],
   "source": [
    "# Delete version above, not very efficient\n",
    "# Backup of text files\n",
    "\n",
    "with open('de.txt', 'w') as f:\n",
    "    f.write(de_txt)\n",
    "    \n",
    "with open('fr.txt', 'w') as f:\n",
    "    f.write(fr_txt)\n",
    "    \n",
    "with open('it.txt', 'w') as f:\n",
    "    f.write(it_txt)"
   ]
  },
  {
   "cell_type": "code",
   "execution_count": null,
   "metadata": {},
   "outputs": [],
   "source": [
    "def parse_files(files):\n",
    "    return [tika.parser.from_file(f)['content'] for f in files]\n",
    "\n",
    "de_parsed_files, fr_parsed_files, it_parsed_files = parse_files(de_files), parse_files(fr_files), parse_files(it_files)"
   ]
  },
  {
   "cell_type": "code",
   "execution_count": null,
   "metadata": {},
   "outputs": [],
   "source": [
    "de_txt, fr_txt, it_txt = ''.join(de_parsed_files), ''.join(fr_parsed_files), ''.join(it_parsed_files)\n",
    "# Backup of text files\n",
    "\n",
    "with open('de.txt', 'w') as f:\n",
    "    f.write(de_txt)\n",
    "    \n",
    "with open('fr.txt', 'w') as f:\n",
    "    f.write(fr_txt)\n",
    "    \n",
    "with open('it.txt', 'w') as f:\n",
    "    f.write(it_txt)"
   ]
  },
  {
   "cell_type": "code",
   "execution_count": 41,
   "metadata": {},
   "outputs": [],
   "source": [
    "de_tokens = [token for token in de_nlp(de_txt)]\n",
    "fr_tokens = [token for token in fr_nlp(fr_txt)]\n",
    "it_tokens = [token for token in it_nlp(it_txt)]\n",
    "\n",
    "# https://www.dataquest.io/blog/tutorial-text-classification-in-python-using-spacy/"
   ]
  },
  {
   "cell_type": "code",
   "execution_count": null,
   "metadata": {},
   "outputs": [],
   "source": [
    "# Remove infrequent words from tokens and convert it to a set()"
   ]
  },
  {
   "cell_type": "code",
   "execution_count": 43,
   "metadata": {},
   "outputs": [
    {
     "data": {
      "text/plain": [
       "''"
      ]
     },
     "execution_count": 43,
     "metadata": {},
     "output_type": "execute_result"
    }
   ],
   "source": [
    "from spellchecker import SpellChecker\n",
    "\n",
    "de_spell, fr_spell = SpellChecker(language='de'), SpellChecker(language='fr')\n",
    "# it_spell =SpellChecker(language='it')\n",
    "# https://pyspellchecker.readthedocs.io/en/latest/quickstart.html#how-to-build-a-new-dictionary\n",
    "# https://github.com/hermitdave/FrequencyWords/tree/master/content/2018/it\n",
    "\n",
    "de_unkown_word = de_spell.unknown(de_tokens)"
   ]
  }
 ],
 "metadata": {
  "kernelspec": {
   "display_name": "Python 3",
   "language": "python",
   "name": "python3"
  },
  "language_info": {
   "codemirror_mode": {
    "name": "ipython",
    "version": 3
   },
   "file_extension": ".py",
   "mimetype": "text/x-python",
   "name": "python",
   "nbconvert_exporter": "python",
   "pygments_lexer": "ipython3",
   "version": "3.7.4"
  }
 },
 "nbformat": 4,
 "nbformat_minor": 1
}
